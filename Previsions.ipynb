{
  "cells": [
    {
      "cell_type": "code",
      "execution_count": 1,
      "metadata": {
        "id": "w6MmeBUBJ-9E"
      },
      "outputs": [],
      "source": [
        "# Regression model algorithm to predict quantity of sales based on price, date, promotions and marketing investing.\n",
        "# At the end, we will be able to predict the demand of a future promotion and schedule the purchase and distribution of products.\n",
        "\n",
        "# @title Setup\n",
        "from google.colab import auth\n",
        "from google.cloud import bigquery\n",
        "from google.colab import data_table\n",
        "from email.mime.text import MIMEText\n",
        "from email.mime.multipart import MIMEMultipart\n",
        "from email.mime.application import MIMEApplication\n",
        "import smtplib\n",
        "import seaborn as sns\n",
        "import matplotlib.pyplot as plt\n",
        "import pandas as pd\n",
        "import numpy as np\n",
        "from datetime import datetime\n",
        "import time\n",
        "from sklearn.model_selection import train_test_split\n",
        "from sklearn.linear_model import LinearRegression\n",
        "from sklearn.metrics import mean_squared_error, r2_score\n",
        "\n",
        "data = datetime.today().date()\n",
        "data_hoje = str(data)\n",
        "\n",
        "\n",
        "project = 'maga-bigdata' # Project ID inserted based on the query results selected to explore\n",
        "location = 'US' # Location inserted based on the query results selected to explore\n",
        "client = bigquery.Client(project=project, location=location)\n",
        "data_table.enable_dataframe_formatter()\n",
        "auth.authenticate_user()"
      ]
    },
    {
      "cell_type": "code",
      "execution_count": 2,
      "metadata": {
        "id": "fsAsHoWDZMpv"
      },
      "outputs": [],
      "source": [
        "query =  \"\"\"\n",
        "\n",
        "WITH\n",
        "\n",
        "HIST AS (\n",
        "  SELECT DISTINCT\n",
        "  CD,\n",
        "  IBM,\n",
        "  DATA_INICIO,\n",
        "  DATA_FIM,\n",
        "  CATEGORIA,\n",
        "  EMISSORA,\n",
        "  FROM `maga-bigdata.supply_intelligence.farol_promo_hist`\n",
        "  WHERE EXTRACT(YEAR FROM `maga-bigdata.supply_intelligence.farol_promo_hist`.DATA_INICIO) > 2020\n",
        "),\n",
        "\n",
        "PRODUTO AS (\n",
        "  SELECT DISTINCT\n",
        "      B.CODITPROD\n",
        "    , B.CODITPROD||B.DIGITPROD                          AS GEMCO\n",
        "    , B.CODPRODDF                                       AS IBM\n",
        "    , B.DESCPROD                                        AS DESCRICAO\n",
        "    , B.CODSITPROD                                      AS SITUACAO_PRODUTO\n",
        "    , B.CODLINHA\n",
        "    , B.DESCLINHA                                       AS LINHA\n",
        "    , B.CODFAM\n",
        "    , B.DESCFAM                                         AS FAMILIA\n",
        "    , TRIM(SUBSTRING(B.DESCLINHA, 1, 3))                AS CATEGORIA\n",
        "    , D.DIRETORIA\n",
        "    , N.NUCLEO\n",
        "    , IFNULL(C.STATUS, '-')                             AS CLASS_ABCDZ\n",
        "    , E.ID_AGRUP                                        AS ID_FORNECEDOR\n",
        "    , E.NOME_AGRUP                                      AS FORNECEDOR\n",
        "      --, COUNT(CODITPROD) AS COUNT\n",
        "\n",
        "  FROM `maga-bigdata.mlpdw.mag_t_arvore_produto` AS B\n",
        "\n",
        "  LEFT JOIN\n",
        "    (SELECT STATUS\n",
        "            , IBM\n",
        "            , VMD\n",
        "\n",
        "    FROM `maga-bigdata.advanced_analytics.status_final_produtos_CDs`\n",
        "\n",
        "    WHERE DATE(DATA) = (SELECT MAX(DATE(DATA)) FROM `maga-bigdata.advanced_analytics.status_final_produtos_CDs` )) C\n",
        "          ON CAST(B.CODPRODDF AS INT64) = CAST(C.IBM AS INT64)\n",
        "\n",
        "  LEFT JOIN\n",
        "    `maga-bigdata.controladoria.mag_t_cad_agrup_fornecedor` E\n",
        "        ON B.CODFORNE = E.CODIGO_FORNE\n",
        "\n",
        "  LEFT JOIN `maga-bigdata.advanced_analytics.demand_depara_nucleo` N\n",
        "        ON TRIM(SUBSTRING(B.DESCLINHA, 1, 3)) = N.category\n",
        "\n",
        "  LEFT JOIN `maga-bigdata.advanced_analytics.demand_depara_diretoria` D\n",
        "        ON TRIM(SUBSTRING(B.DESCLINHA, 1, 3)) = D.category\n",
        "\n",
        "  WHERE B.DESCLINHA NOT LIKE ('%- PE')\n",
        "\n",
        "  ORDER BY CODITPROD\n",
        "),\n",
        "\n",
        "\n",
        "CDDIMENSION AS (\n",
        "  SELECT\n",
        "    CDId\n",
        "    , CD\n",
        "    , State                         AS ESTADO\n",
        "    , Region                        AS REGIAO\n",
        "    , CASE\n",
        "        WHEN CD IN (50,94,400,490,550,994,1100,1250,1500,1800,2000,2100,2650,2750,5200,5350)\n",
        "        THEN 'REGIONAL'\n",
        "        WHEN CD IN (300,350,590,991,2300,2500,2900,5500)\n",
        "        THEN 'MALHA'\n",
        "        WHEN CD IN (997,2400)\n",
        "        THEN 'CROSS'\n",
        "        ELSE 'OUTROS'\n",
        "      END                            AS TIPO_CD\n",
        "\n",
        "  FROM `maga-bigdata.abastecimento.cddimension`\n",
        "\n",
        "  WHERE CAST(CD AS INT64) NOT IN (6001, 2800, 1700, 996, 995, 650, 95)\n",
        "),\n",
        "\n",
        "\n",
        "BRANCHDIMENSION AS (\n",
        "  SELECT\n",
        "    CD.CD                               AS CD\n",
        "    , F.BranchId                        AS FILIAL\n",
        "    , F.Active                          AS ACTIVE\n",
        "\n",
        "  FROM CDDIMENSION CD\n",
        "\n",
        "  LEFT JOIN `maga-bigdata.abastecimento.branchdimension` F\n",
        "            ON CD.CDId = F.CdId\n",
        "\n",
        "  WHERE\n",
        "    F.InaugurationDate <= CURRENT_DATE()\n",
        "    AND F.Active = 1\n",
        "),\n",
        "\n",
        "\n",
        "TRONCO_COMUM_GEMEO AS (\n",
        "  SELECT DISTINCT\n",
        "          A.DATA_ATUAL\n",
        "          , A.IBM\n",
        "          , A.GEMEO\n",
        "          , A.CATEGORIACOMERCIAL\n",
        "          , A.TRONCO_COMUM\n",
        "          , A.TRONCO_COMUM_GEMEO\n",
        "\n",
        "  FROM `advanced_analytics.indicador_ruptura_historico` A\n",
        "\n",
        "  WHERE TRONCO_COMUM_GEMEO = 1\n",
        "),\n",
        "\n",
        "\n",
        "CONTAGEM_ITENS_GEMEO AS (\n",
        "  SELECT DISTINCT\n",
        "          A.DATA_ATUAL\n",
        "          , A.GEMEO\n",
        "          , COUNT(DISTINCT IBM) AS CONTAGEM_GEMEO\n",
        "\n",
        "  FROM `advanced_analytics.indicador_ruptura_historico` A\n",
        "\n",
        "  WHERE TRONCO_COMUM_GEMEO = 1\n",
        "\n",
        "  GROUP BY 1, 2\n",
        "),\n",
        "\n",
        "\n",
        "ELEGIBILIDADE AS (\n",
        "  SELECT DISTINCT\n",
        "          DATE_TRUNC(DATE(DATA_ATUAL), MONTH) AS DATA_BASE\n",
        "          , CATEGORIACOMERCIAL\n",
        "          , '1' AS FLAG_ELEGIBILIDADE\n",
        "\n",
        "  FROM `advanced_analytics.indicador_ruptura_historico`\n",
        "\n",
        "  WHERE TRONCO_COMUM_GEMEO = 1\n",
        "),\n",
        "\n",
        "\n",
        "SORTIMENTO_ABA AS (\n",
        "  SELECT DISTINCT\n",
        "          DATE_TRUNC(DATE(DATA_ATUAL), MONTH) AS DATA_BASE\n",
        "          , CD\n",
        "          , IBM\n",
        "          , GEMEO\n",
        "          , SORT_ABA\n",
        "\n",
        "  FROM `advanced_analytics.indicador_ruptura_historico`\n",
        "\n",
        "  WHERE SORT_ABA = 1\n",
        "\n",
        "  ORDER BY 3, 1, 2\n",
        "),\n",
        "BASE AS (SELECT a.ANO_MES,\n",
        "       a.CATEGORIA,\n",
        "       a.LINHA,\n",
        "       a.FAMILIA,\n",
        "       a.CODIGO_IBM             AS IBM,\n",
        "       a.CODITPROD||a.DIGITPROD AS GEMCO,\n",
        "       a.DESCRICAO,\n",
        "       a.FILIAL_VENDA,\n",
        "       a.FILIAL_SAIDA,\n",
        "       F.CODCDLOJA              AS CD_FILIAL_SAIDA,\n",
        "       a.FILIAL_ENTREGA,\n",
        "       CASE\n",
        "          WHEN a.FILIAL_VENDA NOT IN (200)\n",
        "          THEN 'REDE'\n",
        "          WHEN a.FILIAL_VENDA IN (200) AND a.FILIAL_SAIDA IN (SELECT DISTINCT FILIAL FROM BRANCHDIMENSION)\n",
        "          THEN 'ECOM'\n",
        "          WHEN a.FILIAL_VENDA IN (200) AND a.FILIAL_SAIDA IN (SELECT DISTINCT CD FROM CDDIMENSION)\n",
        "          THEN 'SITE'\n",
        "          ELSE 'NA'\n",
        "       END AS TIPO_VENDA,\n",
        "       SUM(VENDA_QTDE)          AS VENDA_QTDE,\n",
        "       SUM(PRECO)         AS PRECO\n",
        "\n",
        "FROM (\n",
        "\n",
        "      SELECT  v2.data_nf AS ANO_MES,\n",
        "              IFNULL(fam.categoriacomercial,'TM') AS CATEGORIA,\n",
        "              prod.CODLINHA AS CODIGO_LINHA,\n",
        "              lin.LINHA,\n",
        "              prod.CODFAM AS CODIGO_FAMILIA,\n",
        "              fam.FAMILIA,\n",
        "              v2.produto_ibm AS CODIGO_IBM,\n",
        "              prod.coditprod AS CODITPROD,\n",
        "              prod.digitprod AS DIGITPROD,\n",
        "              pr.descricao AS DESCRICAO,\n",
        "              v2.filial_venda,\n",
        "              v2.filial_saida,\n",
        "              v2.filial_entrega,\n",
        "              'Venda' AS TIPO,\n",
        "              CAST(SUM(IFNULL(v2.quantidade,0)) AS FLOAT64) AS VENDA_QTDE,\n",
        "              CAST(SUM(IFNULL(v2.quantidade,0) * IFNULL(v2.VALOR_UNITARIO_NF,0)) AS FLOAT64) AS PRECO\n",
        "\n",
        "      FROM (\n",
        "\n",
        "            SELECT  v.*, 1 AS qtd_pedidos,\n",
        "                    COUNT(v.numero_nf) OVER (PARTITION BY v.numero_nf, v.data_nf, v.filial_emissao_nf) qtd_ped_tt\n",
        "\n",
        "            FROM controladoria.mag_v_notafiscal_venda_nova v\n",
        "\n",
        "            WHERE date(v.data_nf) >= DATE_SUB(CURRENT_DATE(), INTERVAL 600 DAY)  ------------------------------------------- DETERMINA PERÍODO DA CONSULTA\n",
        "                   ) v2\n",
        "      LEFT JOIN mlpbi.mag_t_dim_filial        fil\n",
        "          ON v2.filial_venda = fil.filialkey\n",
        "      LEFT JOIN balboa.cad_itprod             prod\n",
        "          ON v2.produto_ibm = prod.codproddf\n",
        "      LEFT JOIN mlpbi.mag_t_dim_linha         lin\n",
        "          ON prod.codlinha = lin.linhakey\n",
        "      LEFT JOIN mlpbi.mag_t_dim_familia       fam\n",
        "          ON prod.codfam = fam.familiakey\n",
        "      LEFT JOIN balboa.cad_prod               pr\n",
        "          ON prod.codprod = pr.codprod\n",
        "\n",
        "      GROUP BY  v2.data_nf,\n",
        "                IFNULL(fam.categoriacomercial,'TM'),\n",
        "                prod.CODLINHA,\n",
        "                lin.LINHA,\n",
        "                prod.CODFAM,\n",
        "                fam.FAMILIA,\n",
        "                v2.produto_ibm,\n",
        "                prod.coditprod,\n",
        "                prod.digitprod,\n",
        "                pr.descricao,\n",
        "                v2.filial_venda,\n",
        "                v2.filial_saida,\n",
        "                v2.filial_entrega\n",
        "\n",
        "\n",
        "      UNION ALL\n",
        "\n",
        "\n",
        "      SELECT v2.data_conferencia as ANO_MES,\n",
        "             IFNULL(fam.categoriacomercial,'TM') as CATEGORIA,\n",
        "             prod.codlinha as CODIGO_LINHA,\n",
        "             lin.linha,\n",
        "             prod.codfam as CODIGO_FAMILIA,\n",
        "             fam.familia,\n",
        "             v2.produto_ibm as CODIGO_IBM,\n",
        "             prod.coditprod AS CODITPROD,\n",
        "              prod.digitprod AS DIGITPROD,\n",
        "             pr.descricao AS DESCRICAO,\n",
        "             v2.filial_venda,\n",
        "             v2.filial_NFsaida as FILIAL_SAIDA,\n",
        "             v2.filial_emissao_nf as FILIAL_ENTREGA,\n",
        "             'Devol' as TIPO,\n",
        "             CAST(-SUM(IFNULL(v2.quantidade,0)) AS FLOAT64) as VENDA_QTDE,\n",
        "             CAST(-SUM(IFNULL(v2.quantidade,0) * IFNULL(v2.VALOR_UNITARIO_NF,0)) AS FLOAT64) as PRECO\n",
        "\n",
        "      FROM (\n",
        "\n",
        "            SELECT  d.*, 1 as qtd_pedidos,\n",
        "                    COUNT(d.numero_nf) OVER (PARTITION BY d.numero_nf, d.data_conferencia, d.filial_emissao_nf) qtd_ped_tt\n",
        "\n",
        "            FROM controladoria.mag_v_notafiscal_devvenda_nova d\n",
        "\n",
        "            WHERE date(d.data_conferencia) >=DATE_SUB(CURRENT_DATE(), INTERVAL 600 DAY)  ) v2 ------------------------------------------- DETERMINA PERÍODO DA CONSULTA\n",
        "\n",
        "      LEFT JOIN mlpbi.mag_t_dim_filial          fil\n",
        "          ON v2.filial_venda = fil.filialkey\n",
        "      LEFT JOIN balboa.cad_itprod               prod\n",
        "          ON v2.produto_ibm = prod.codproddf\n",
        "      LEFT JOIN mlpbi.mag_t_dim_linha           lin\n",
        "          ON prod.codlinha = lin.linhakey\n",
        "      LEFT JOIN mlpbi.mag_t_dim_familia         fam\n",
        "          ON prod.codfam = fam.familiakey\n",
        "      LEFT JOIN balboa.cad_prod                 pr\n",
        "          ON prod.codprod = pr.codprod\n",
        "\n",
        "\n",
        "      GROUP BY v2.data_conferencia,\n",
        "            IFNULL(fam.categoriacomercial,'TM'),\n",
        "            prod.codlinha,\n",
        "            lin.linha,\n",
        "            prod.codfam,\n",
        "            fam.familia,\n",
        "            prod.coditprod,\n",
        "            prod.digitprod,\n",
        "            pr.descricao,\n",
        "            v2.produto_ibm,\n",
        "            v2.filial_venda,\n",
        "            v2.filial_NFsaida,\n",
        "            v2.filial_emissao_nf ) a\n",
        "\n",
        "LEFT JOIN `maga-bigdata.dw.VW_DIM_FILIAL` F\n",
        "    ON a.FILIAL_SAIDA = F.FILIALKEY\n",
        "\n",
        "GROUP BY a.ANO_MES,\n",
        "         a.CATEGORIA,\n",
        "         a.CODIGO_LINHA,\n",
        "         a.LINHA,\n",
        "         a.CODIGO_FAMILIA,\n",
        "         a.FAMILIA,\n",
        "         a.CODIGO_IBM,\n",
        "         a.CODITPROD||a.DIGITPROD,\n",
        "         a.CODITPROD,\n",
        "         a.DIGITPROD,\n",
        "         a.DESCRICAO,\n",
        "         a.FILIAL_VENDA,\n",
        "         a.FILIAL_SAIDA,\n",
        "         F.CODCDLOJA,\n",
        "         a.FILIAL_ENTREGA,\n",
        "         TIPO_VENDA\n",
        "\n",
        ")\n",
        "\n",
        "SELECT\n",
        "\n",
        "BASE.IBM,\n",
        "BASE.DESCRICAO,\n",
        "SUM(VENDA_QTDE) AS QUANTIDADE,\n",
        "ROUND(PRECO, 0) AS PRECO,\n",
        "UPPER(EMISSORA) AS EMISSORA,\n",
        "CASE EXTRACT(DAYOFWEEK FROM BASE.ANO_MES)\n",
        "    WHEN 1 THEN 'Domingo'\n",
        "    WHEN 2 THEN 'Segunda-feira'\n",
        "    WHEN 3 THEN 'Terça-feira'\n",
        "    WHEN 4 THEN 'Quarta-feira'\n",
        "    WHEN 5 THEN 'Quinta-feira'\n",
        "    WHEN 6 THEN 'Sexta-feira'\n",
        "    WHEN 7 THEN 'Sábado'\n",
        "  END AS DIA_SEMANA,\n",
        "DATE_DIFF(BASE.ANO_MES, DATE_SUB(DATE_TRUNC(BASE.ANO_MES, MONTH), INTERVAL 1 DAY), WEEK) AS SEMANA,\n",
        "EXTRACT(MONTH FROM BASE.ANO_MES) AS MES,\n",
        "EXTRACT(YEAR FROM BASE.ANO_MES) AS ANO,\n",
        "\n",
        "FROM BASE\n",
        "\n",
        "LEFT JOIN HIST ON\n",
        "CAST(BASE.IBM AS INT64) = HIST.IBM AND\n",
        "BASE.ANO_MES >= HIST.DATA_INICIO AND\n",
        "BASE.ANO_MES <= HIST.DATA_FIM AND\n",
        "BASE.CD_FILIAL_SAIDA = HIST.CD\n",
        "\n",
        "LEFT JOIN `maga-bigdata.advanced_analytics.demand_depara_diretoria`\n",
        "ON BASE.CATEGORIA = `maga-bigdata.advanced_analytics.demand_depara_diretoria`.CATEGORY\n",
        "\n",
        "WHERE VENDA_QTDE > 0 AND TIPO_VENDA = \"REDE\" AND BASE.IBM = \"144134600\"\n",
        "\n",
        "GROUP BY EMISSORA, DIA_SEMANA, SEMANA, MES, ANO, IBM, DESCRICAO, PRECO\n",
        "\n",
        "\"\"\""
      ]
    },
    {
      "cell_type": "code",
      "source": [
        "query_job_agendas = client.query(query)\n",
        "results = query_job_agendas.result()"
      ],
      "metadata": {
        "id": "vz95ZsfwBvRw"
      },
      "execution_count": 3,
      "outputs": []
    },
    {
      "cell_type": "code",
      "source": [
        "column_names = [field.name for field in results.schema]"
      ],
      "metadata": {
        "id": "AT-YjpV4KdRo"
      },
      "execution_count": 4,
      "outputs": []
    },
    {
      "cell_type": "code",
      "source": [
        "filename = \"hist.csv\"\n",
        "with open(filename, \"w\") as f:\n",
        "  f.write(\";\".join(column_names) + \"\\n\")\n",
        "\n",
        "  for row in results:\n",
        "    f.write(\";\".join([str(row[field.name]) for field in results.schema]) + \"\\n\")"
      ],
      "metadata": {
        "id": "uxvJn_04CT9i"
      },
      "execution_count": 5,
      "outputs": []
    },
    {
      "cell_type": "code",
      "source": [
        "df = pd.read_csv(filename, sep=\";\")"
      ],
      "metadata": {
        "id": "qfrsA3K8RzK4"
      },
      "execution_count": 6,
      "outputs": []
    },
    {
      "cell_type": "code",
      "source": [
        "valores_substitutos = {'EMISSORA': 'DIA_NORMAL'}\n",
        "df = df.fillna(valores_substitutos)\n",
        "\n",
        "df['EMISSORA'] = df['EMISSORA'].replace(\"None\", \"DIA_NORMAL\")"
      ],
      "metadata": {
        "id": "07QVfVIbM_Y5"
      },
      "execution_count": 7,
      "outputs": []
    },
    {
      "cell_type": "code",
      "source": [
        "df['SEMANA'] = df['SEMANA'].replace(0, 1)\n",
        "df['SEMANA'] = df['SEMANA'].replace(5, 4)"
      ],
      "metadata": {
        "id": "IgD9wI2IzaRi"
      },
      "execution_count": 8,
      "outputs": []
    },
    {
      "cell_type": "code",
      "source": [
        "def remove_outliers(df, col_produto, col_preco, lower_threshold=1.0, upper_threshold=1.0):\n",
        "    df['media_preco'] = df.groupby(col_produto)[col_preco].transform('mean')\n",
        "    df['desvio_padrao_preco'] = df.groupby(col_produto)[col_preco].transform('std')\n",
        "\n",
        "    df['z_score'] = (df[col_preco] - df['media_preco']) / df['desvio_padrao_preco']\n",
        "\n",
        "    df_filtered = df[(df['z_score'] >= -lower_threshold) & (df['z_score'] <= upper_threshold)]\n",
        "\n",
        "    df_filtered.drop(['media_preco', 'desvio_padrao_preco', 'z_score', 'IBM'], axis=1, inplace=True)\n",
        "\n",
        "    return df_filtered\n",
        "\n",
        "df = remove_outliers(df, 'IBM', 'PRECO', lower_threshold=0.8, upper_threshold=0.001)\n",
        "\n",
        "valor_moda = df['DESCRICAO'].mode()[0]\n",
        "df['DESCRICAO'] = valor_moda\n"
      ],
      "metadata": {
        "colab": {
          "base_uri": "https://localhost:8080/"
        },
        "id": "pcjl4WMV86ku",
        "outputId": "669d613b-2aea-4590-aa8e-db21c1074e94"
      },
      "execution_count": 9,
      "outputs": [
        {
          "output_type": "stream",
          "name": "stderr",
          "text": [
            "<ipython-input-9-12a1d1a0235e>:9: SettingWithCopyWarning: \n",
            "A value is trying to be set on a copy of a slice from a DataFrame\n",
            "\n",
            "See the caveats in the documentation: https://pandas.pydata.org/pandas-docs/stable/user_guide/indexing.html#returning-a-view-versus-a-copy\n",
            "  df_filtered.drop(['media_preco', 'desvio_padrao_preco', 'z_score', 'IBM'], axis=1, inplace=True)\n"
          ]
        }
      ]
    },
    {
      "cell_type": "code",
      "source": [
        "df.info()"
      ],
      "metadata": {
        "colab": {
          "base_uri": "https://localhost:8080/"
        },
        "id": "KRy0jGHcMRyj",
        "outputId": "3a43cc35-30c2-4052-b37c-8e61ff42e673"
      },
      "execution_count": 10,
      "outputs": [
        {
          "output_type": "stream",
          "name": "stdout",
          "text": [
            "<class 'pandas.core.frame.DataFrame'>\n",
            "Int64Index: 6645 entries, 1 to 10602\n",
            "Data columns (total 8 columns):\n",
            " #   Column      Non-Null Count  Dtype  \n",
            "---  ------      --------------  -----  \n",
            " 0   DESCRICAO   6645 non-null   object \n",
            " 1   QUANTIDADE  6645 non-null   float64\n",
            " 2   PRECO       6645 non-null   float64\n",
            " 3   EMISSORA    6645 non-null   object \n",
            " 4   DIA_SEMANA  6645 non-null   object \n",
            " 5   SEMANA      6645 non-null   int64  \n",
            " 6   MES         6645 non-null   int64  \n",
            " 7   ANO         6645 non-null   int64  \n",
            "dtypes: float64(2), int64(3), object(3)\n",
            "memory usage: 467.2+ KB\n"
          ]
        }
      ]
    },
    {
      "cell_type": "code",
      "source": [
        "df.to_excel('hist_tratado.xlsx', index=False)"
      ],
      "metadata": {
        "id": "mPJ0mAerD5EO"
      },
      "execution_count": 11,
      "outputs": []
    },
    {
      "cell_type": "code",
      "source": [
        "# Calcular o valor mínimo da coluna 'preco'\n",
        "valor_minimo = df['PRECO'].min()\n",
        "\n",
        "# Calcular o valor máximo da coluna 'preco'\n",
        "valor_maximo = df['PRECO'].max()\n",
        "\n",
        "# Calcular o valor médio da coluna 'preco'\n",
        "valor_medio = df['PRECO'].mean()\n",
        "\n",
        "# Exibir os resultados\n",
        "print(\"Valor Mínimo da coluna 'PRECO':\", valor_minimo)\n",
        "print(\"Valor Máximo da coluna 'PRECO':\", valor_maximo)\n",
        "print(\"Valor Médio da coluna 'PRECO':\", valor_medio)"
      ],
      "metadata": {
        "colab": {
          "base_uri": "https://localhost:8080/"
        },
        "id": "gbkA0XJOB-zP",
        "outputId": "59c3056a-8eef-4645-81d0-70355f7341e9"
      },
      "execution_count": 12,
      "outputs": [
        {
          "output_type": "stream",
          "name": "stdout",
          "text": [
            "Valor Mínimo da coluna 'PRECO': 429.0\n",
            "Valor Máximo da coluna 'PRECO': 1086.0\n",
            "Valor Médio da coluna 'PRECO': 683.7522949586155\n"
          ]
        }
      ]
    },
    {
      "cell_type": "code",
      "source": [
        "valor_maximo = df['QUANTIDADE'].max()\n",
        "\n",
        "valor_medio = df['QUANTIDADE'].mean()\n",
        "\n",
        "print(\"Valor Máximo da coluna 'QUANTIDADE':\", valor_maximo)\n",
        "print(\"Valor Médio da coluna QUANTIDADE':\", valor_medio)"
      ],
      "metadata": {
        "colab": {
          "base_uri": "https://localhost:8080/"
        },
        "id": "oy-bt4vnTwVy",
        "outputId": "b3d51a16-194b-4af7-dfd4-79c2da7c7a0c"
      },
      "execution_count": 13,
      "outputs": [
        {
          "output_type": "stream",
          "name": "stdout",
          "text": [
            "Valor Máximo da coluna 'QUANTIDADE': 444.0\n",
            "Valor Médio da coluna QUANTIDADE': 4.663054928517682\n"
          ]
        }
      ]
    },
    {
      "cell_type": "code",
      "source": [
        "agrupado_emissora = df.groupby('EMISSORA')['QUANTIDADE'].sum().reset_index()\n",
        "\n",
        "plt.figure(figsize=(5, 3))  # Ajuste o tamanho do gráfico conforme necessário\n",
        "plt.bar(agrupado_emissora['EMISSORA'], agrupado_emissora['QUANTIDADE'])\n",
        "plt.xlabel('Dia da Semana')\n",
        "plt.ylabel('Quantidade')\n",
        "plt.title('Quantidade por Campanha')\n",
        "plt.xticks(rotation=45)"
      ],
      "metadata": {
        "colab": {
          "base_uri": "https://localhost:8080/",
          "height": 515
        },
        "id": "5srD22KfCq94",
        "outputId": "b2c2c2c8-fc08-4219-b72d-0ca9dae8d35b"
      },
      "execution_count": 14,
      "outputs": [
        {
          "output_type": "execute_result",
          "data": {
            "text/plain": [
              "([0, 1, 2, 3, 4, 5],\n",
              " [Text(0, 0, 'DIA_NORMAL'),\n",
              "  Text(1, 0, 'GLOBO'),\n",
              "  Text(2, 0, 'INTERNO'),\n",
              "  Text(3, 0, 'LAMINA'),\n",
              "  Text(4, 0, 'MALA'),\n",
              "  Text(5, 0, 'MÍDIA NET')])"
            ]
          },
          "metadata": {},
          "execution_count": 14
        },
        {
          "output_type": "display_data",
          "data": {
            "text/plain": [
              "<Figure size 500x300 with 1 Axes>"
            ],
            "image/png": "[encoded data removed]"
          },
          "metadata": {}
        }
      ]
    },
    {
      "cell_type": "code",
      "source": [
        "agrupado = df.groupby('DIA_SEMANA')['QUANTIDADE'].sum().reset_index()\n",
        "\n",
        "plt.figure(figsize=(5, 3))  # Ajuste o tamanho do gráfico conforme necessário\n",
        "plt.bar(agrupado['DIA_SEMANA'], agrupado['QUANTIDADE'])\n",
        "plt.xlabel('Dia da Semana')\n",
        "plt.ylabel('Quantidade')\n",
        "plt.title('Quantidade por Dia da Semana')\n",
        "plt.xticks(rotation=45)\n",
        "\n",
        "agrupado_mes = df.groupby('MES')['QUANTIDADE'].sum().reset_index()\n",
        "plt.figure(figsize=(5, 3))  # Ajuste o tamanho do gráfico conforme necessário\n",
        "plt.bar(agrupado_mes['MES'], agrupado_mes['QUANTIDADE'])\n",
        "plt.xlabel('Mes')\n",
        "plt.ylabel('Quantidade')\n",
        "plt.title('Quantidade por Mes')\n",
        "plt.xticks(rotation=45)\n",
        "\n",
        "agrupado_semana = df.groupby('SEMANA')['QUANTIDADE'].sum().reset_index()\n",
        "plt.figure(figsize=(5, 3))  # Ajuste o tamanho do gráfico conforme necessário\n",
        "plt.bar(agrupado_semana['SEMANA'], agrupado_semana['QUANTIDADE'])\n",
        "plt.xlabel('Semana')\n",
        "plt.ylabel('Quantidade')\n",
        "plt.title('Quantidade por Semana')\n",
        "plt.xticks(rotation=45)\n",
        "\n",
        "plt.show()"
      ],
      "metadata": {
        "colab": {
          "base_uri": "https://localhost:8080/",
          "height": 1000
        },
        "id": "bcideBKwqauO",
        "outputId": "56faf00f-121b-489c-a610-3ff09f326ab3"
      },
      "execution_count": 15,
      "outputs": [
        {
          "output_type": "display_data",
          "data": {
            "text/plain": [
              "<Figure size 500x300 with 1 Axes>"
            ],
            "image/png": "[encoded data removed]"
          },
          "metadata": {}
        },
        {
          "output_type": "display_data",
          "data": {
            "text/plain": [
              "<Figure size 500x300 with 1 Axes>"
            ],
            "image/png": "[encoded data removed]"
          },
          "metadata": {}
        },
        {
          "output_type": "display_data",
          "data": {
            "text/plain": [
              "<Figure size 500x300 with 1 Axes>"
            ],
            "image/png": "[encoded data removed]"
          },
          "metadata": {}
        }
      ]
    },
    {
      "cell_type": "code",
      "source": [
        "df.info()"
      ],
      "metadata": {
        "colab": {
          "base_uri": "https://localhost:8080/"
        },
        "id": "O3kJ9hXNFbOz",
        "outputId": "8ba156ec-1b56-47fc-aaaa-4dc7c733b654"
      },
      "execution_count": 16,
      "outputs": [
        {
          "output_type": "stream",
          "name": "stdout",
          "text": [
            "<class 'pandas.core.frame.DataFrame'>\n",
            "Int64Index: 6645 entries, 1 to 10602\n",
            "Data columns (total 8 columns):\n",
            " #   Column      Non-Null Count  Dtype  \n",
            "---  ------      --------------  -----  \n",
            " 0   DESCRICAO   6645 non-null   object \n",
            " 1   QUANTIDADE  6645 non-null   float64\n",
            " 2   PRECO       6645 non-null   float64\n",
            " 3   EMISSORA    6645 non-null   object \n",
            " 4   DIA_SEMANA  6645 non-null   object \n",
            " 5   SEMANA      6645 non-null   int64  \n",
            " 6   MES         6645 non-null   int64  \n",
            " 7   ANO         6645 non-null   int64  \n",
            "dtypes: float64(2), int64(3), object(3)\n",
            "memory usage: 467.2+ KB\n"
          ]
        }
      ]
    },
    {
      "cell_type": "code",
      "source": [
        "df.head()"
      ],
      "metadata": {
        "colab": {
          "base_uri": "https://localhost:8080/",
          "height": 230
        },
        "id": "fn0AKtG0Rf38",
        "outputId": "cab3f487-3e16-453a-e10e-906a432de204"
      },
      "execution_count": 17,
      "outputs": [
        {
          "output_type": "execute_result",
          "data": {
            "text/plain": [
              "                                DESCRICAO  QUANTIDADE   PRECO    EMISSORA  \\\n",
              "1  CJ PANELAS BRINOX OPTIMA VANILLA 5 PCS       155.0   500.0  DIA_NORMAL   \n",
              "2  CJ PANELAS BRINOX OPTIMA VANILLA 5 PCS        24.0  1000.0  DIA_NORMAL   \n",
              "4  CJ PANELAS BRINOX OPTIMA VANILLA 5 PCS         2.0  1046.0  DIA_NORMAL   \n",
              "5  CJ PANELAS BRINOX OPTIMA VANILLA 5 PCS        15.0   500.0  DIA_NORMAL   \n",
              "6  CJ PANELAS BRINOX OPTIMA VANILLA 5 PCS       110.0   500.0  DIA_NORMAL   \n",
              "\n",
              "     DIA_SEMANA  SEMANA  MES   ANO  \n",
              "1   Sexta-feira       1    1  2023  \n",
              "2        Sábado       1    1  2023  \n",
              "4  Quinta-feira       1    1  2023  \n",
              "5   Terça-feira       2    1  2023  \n",
              "6        Sábado       1    1  2023  "
            ],
            "text/html": [
              "\n",
              "  <div id=\"df-56cc6234-8fed-4030-b0fc-e3d0ddcc080a\" class=\"colab-df-container\">\n",
              "    <div>\n",
              "<style scoped>\n",
              "    .dataframe tbody tr th:only-of-type {\n",
              "        vertical-align: middle;\n",
              "    }\n",
              "\n",
              "    .dataframe tbody tr th {\n",
              "        vertical-align: top;\n",
              "    }\n",
              "\n",
              "    .dataframe thead th {\n",
              "        text-align: right;\n",
              "    }\n",
              "</style>\n",
              "<table border=\"1\" class=\"dataframe\">\n",
              "  <thead>\n",
              "    <tr style=\"text-align: right;\">\n",
              "      <th></th>\n",
              "      <th>DESCRICAO</th>\n",
              "      <th>QUANTIDADE</th>\n",
              "      <th>PRECO</th>\n",
              "      <th>EMISSORA</th>\n",
              "      <th>DIA_SEMANA</th>\n",
              "      <th>SEMANA</th>\n",
              "      <th>MES</th>\n",
              "      <th>ANO</th>\n",
              "    </tr>\n",
              "  </thead>\n",
              "  <tbody>\n",
              "    <tr>\n",
              "      <th>1</th>\n",
              "      <td>CJ PANELAS BRINOX OPTIMA VANILLA 5 PCS</td>\n",
              "      <td>155.0</td>\n",
              "      <td>500.0</td>\n",
              "      <td>DIA_NORMAL</td>\n",
              "      <td>Sexta-feira</td>\n",
              "      <td>1</td>\n",
              "      <td>1</td>\n",
              "      <td>2023</td>\n",
              "    </tr>\n",
              "    <tr>\n",
              "      <th>2</th>\n",
              "      <td>CJ PANELAS BRINOX OPTIMA VANILLA 5 PCS</td>\n",
              "      <td>24.0</td>\n",
              "      <td>1000.0</td>\n",
              "      <td>DIA_NORMAL</td>\n",
              "      <td>Sábado</td>\n",
              "      <td>1</td>\n",
              "      <td>1</td>\n",
              "      <td>2023</td>\n",
              "    </tr>\n",
              "    <tr>\n",
              "      <th>4</th>\n",
              "      <td>CJ PANELAS BRINOX OPTIMA VANILLA 5 PCS</td>\n",
              "      <td>2.0</td>\n",
              "      <td>1046.0</td>\n",
              "      <td>DIA_NORMAL</td>\n",
              "      <td>Quinta-feira</td>\n",
              "      <td>1</td>\n",
              "      <td>1</td>\n",
              "      <td>2023</td>\n",
              "    </tr>\n",
              "    <tr>\n",
              "      <th>5</th>\n",
              "      <td>CJ PANELAS BRINOX OPTIMA VANILLA 5 PCS</td>\n",
              "      <td>15.0</td>\n",
              "      <td>500.0</td>\n",
              "      <td>DIA_NORMAL</td>\n",
              "      <td>Terça-feira</td>\n",
              "      <td>2</td>\n",
              "      <td>1</td>\n",
              "      <td>2023</td>\n",
              "    </tr>\n",
              "    <tr>\n",
              "      <th>6</th>\n",
              "      <td>CJ PANELAS BRINOX OPTIMA VANILLA 5 PCS</td>\n",
              "      <td>110.0</td>\n",
              "      <td>500.0</td>\n",
              "      <td>DIA_NORMAL</td>\n",
              "      <td>Sábado</td>\n",
              "      <td>1</td>\n",
              "      <td>1</td>\n",
              "      <td>2023</td>\n",
              "    </tr>\n",
              "  </tbody>\n",
              "</table>\n",
              "</div>\n",
              "    <div class=\"colab-df-buttons\">\n",
              "\n",
              "  <div class=\"colab-df-container\">\n",
              "    <button class=\"colab-df-convert\" onclick=\"convertToInteractive('df-56cc6234-8fed-4030-b0fc-e3d0ddcc080a')\"\n",
              "            title=\"Convert this dataframe to an interactive table.\"\n",
              "            style=\"display:none;\">\n",
              "\n",
              "  <svg xmlns=\"http://www.w3.org/2000/svg\" height=\"24px\" viewBox=\"0 -960 960 960\">\n",
              "    <path d=\"M120-120v-720h720v720H120Zm60-500h600v-160H180v160Zm220 220h160v-160H400v160Zm0 220h160v-160H400v160ZM180-400h160v-160H180v160Zm440 0h160v-160H620v160ZM180-180h160v-160H180v160Zm440 0h160v-160H620v160Z\"/>\n",
              "  </svg>\n",
              "    </button>\n",
              "\n",
              "  <style>\n",
              "    .colab-df-container {\n",
              "      display:flex;\n",
              "      gap: 12px;\n",
              "    }\n",
              "\n",
              "    .colab-df-convert {\n",
              "      background-color: #E8F0FE;\n",
              "      border: none;\n",
              "      border-radius: 50%;\n",
              "      cursor: pointer;\n",
              "      display: none;\n",
              "      fill: #1967D2;\n",
              "      height: 32px;\n",
              "      padding: 0 0 0 0;\n",
              "      width: 32px;\n",
              "    }\n",
              "\n",
              "    .colab-df-convert:hover {\n",
              "      background-color: #E2EBFA;\n",
              "      box-shadow: 0px 1px 2px rgba(60, 64, 67, 0.3), 0px 1px 3px 1px rgba(60, 64, 67, 0.15);\n",
              "      fill: #174EA6;\n",
              "    }\n",
              "\n",
              "    .colab-df-buttons div {\n",
              "      margin-bottom: 4px;\n",
              "    }\n",
              "\n",
              "    [theme=dark] .colab-df-convert {\n",
              "      background-color: #3B4455;\n",
              "      fill: #D2E3FC;\n",
              "    }\n",
              "\n",
              "    [theme=dark] .colab-df-convert:hover {\n",
              "      background-color: #434B5C;\n",
              "      box-shadow: 0px 1px 3px 1px rgba(0, 0, 0, 0.15);\n",
              "      filter: drop-shadow(0px 1px 2px rgba(0, 0, 0, 0.3));\n",
              "      fill: #FFFFFF;\n",
              "    }\n",
              "  </style>\n",
              "\n",
              "    <script>\n",
              "      const buttonEl =\n",
              "        document.querySelector('#df-56cc6234-8fed-4030-b0fc-e3d0ddcc080a button.colab-df-convert');\n",
              "      buttonEl.style.display =\n",
              "        google.colab.kernel.accessAllowed ? 'block' : 'none';\n",
              "\n",
              "      async function convertToInteractive(key) {\n",
              "        const element = document.querySelector('#df-56cc6234-8fed-4030-b0fc-e3d0ddcc080a');\n",
              "        const dataTable =\n",
              "          await google.colab.kernel.invokeFunction('convertToInteractive',\n",
              "                                                    [key], {});\n",
              "        if (!dataTable) return;\n",
              "\n",
              "        const docLinkHtml = 'Like what you see? Visit the ' +\n",
              "          '<a target=\"_blank\" href=https://colab.research.google.com/notebooks/data_table.ipynb>data table notebook</a>'\n",
              "          + ' to learn more about interactive tables.';\n",
              "        element.innerHTML = '';\n",
              "        dataTable['output_type'] = 'display_data';\n",
              "        await google.colab.output.renderOutput(dataTable, element);\n",
              "        const docLink = document.createElement('div');\n",
              "        docLink.innerHTML = docLinkHtml;\n",
              "        element.appendChild(docLink);\n",
              "      }\n",
              "    </script>\n",
              "  </div>\n",
              "\n",
              "\n",
              "<div id=\"df-6736ecde-34e1-49d2-86cb-097e937b0d12\">\n",
              "  <button class=\"colab-df-quickchart\" onclick=\"quickchart('df-6736ecde-34e1-49d2-86cb-097e937b0d12')\"\n",
              "            title=\"Suggest charts.\"\n",
              "            style=\"display:none;\">\n",
              "\n",
              "<svg xmlns=\"http://www.w3.org/2000/svg\" height=\"24px\"viewBox=\"0 0 24 24\"\n",
              "     width=\"24px\">\n",
              "    <g>\n",
              "        <path d=\"M19 3H5c-1.1 0-2 .9-2 2v14c0 1.1.9 2 2 2h14c1.1 0 2-.9 2-2V5c0-1.1-.9-2-2-2zM9 17H7v-7h2v7zm4 0h-2V7h2v10zm4 0h-2v-4h2v4z\"/>\n",
              "    </g>\n",
              "</svg>\n",
              "  </button>\n",
              "\n",
              "<style>\n",
              "  .colab-df-quickchart {\n",
              "    background-color: #E8F0FE;\n",
              "    border: none;\n",
              "    border-radius: 50%;\n",
              "    cursor: pointer;\n",
              "    display: none;\n",
              "    fill: #1967D2;\n",
              "    height: 32px;\n",
              "    padding: 0 0 0 0;\n",
              "    width: 32px;\n",
              "  }\n",
              "\n",
              "  .colab-df-quickchart:hover {\n",
              "    background-color: #E2EBFA;\n",
              "    box-shadow: 0px 1px 2px rgba(60, 64, 67, 0.3), 0px 1px 3px 1px rgba(60, 64, 67, 0.15);\n",
              "    fill: #174EA6;\n",
              "  }\n",
              "\n",
              "  [theme=dark] .colab-df-quickchart {\n",
              "    background-color: #3B4455;\n",
              "    fill: #D2E3FC;\n",
              "  }\n",
              "\n",
              "  [theme=dark] .colab-df-quickchart:hover {\n",
              "    background-color: #434B5C;\n",
              "    box-shadow: 0px 1px 3px 1px rgba(0, 0, 0, 0.15);\n",
              "    filter: drop-shadow(0px 1px 2px rgba(0, 0, 0, 0.3));\n",
              "    fill: #FFFFFF;\n",
              "  }\n",
              "</style>\n",
              "\n",
              "  <script>\n",
              "    async function quickchart(key) {\n",
              "      const charts = await google.colab.kernel.invokeFunction(\n",
              "          'suggestCharts', [key], {});\n",
              "    }\n",
              "    (() => {\n",
              "      let quickchartButtonEl =\n",
              "        document.querySelector('#df-6736ecde-34e1-49d2-86cb-097e937b0d12 button');\n",
              "      quickchartButtonEl.style.display =\n",
              "        google.colab.kernel.accessAllowed ? 'block' : 'none';\n",
              "    })();\n",
              "  </script>\n",
              "</div>\n",
              "    </div>\n",
              "  </div>\n"
            ],
            "application/vnd.google.colaboratory.module+javascript": "\n      import \"https://ssl.gstatic.com/colaboratory/data_table/881c4a0d49046431/data_table.js\";\n\n      const table = window.createDataTable({\n        data: [[{\n            'v': 1,\n            'f': \"1\",\n        },\n\"CJ PANELAS BRINOX OPTIMA VANILLA 5 PCS\",\n{\n            'v': 155.0,\n            'f': \"155.0\",\n        },\n{\n            'v': 500.0,\n            'f': \"500.0\",\n        },\n\"DIA_NORMAL\",\n\"Sexta-feira\",\n{\n            'v': 1,\n            'f': \"1\",\n        },\n{\n            'v': 1,\n            'f': \"1\",\n        },\n{\n            'v': 2023,\n            'f': \"2023\",\n        }],\n [{\n            'v': 2,\n            'f': \"2\",\n        },\n\"CJ PANELAS BRINOX OPTIMA VANILLA 5 PCS\",\n{\n            'v': 24.0,\n            'f': \"24.0\",\n        },\n{\n            'v': 1000.0,\n            'f': \"1000.0\",\n        },\n\"DIA_NORMAL\",\n\"S\\u00e1bado\",\n{\n            'v': 1,\n            'f': \"1\",\n        },\n{\n            'v': 1,\n            'f': \"1\",\n        },\n{\n            'v': 2023,\n            'f': \"2023\",\n        }],\n [{\n            'v': 4,\n            'f': \"4\",\n        },\n\"CJ PANELAS BRINOX OPTIMA VANILLA 5 PCS\",\n{\n            'v': 2.0,\n            'f': \"2.0\",\n        },\n{\n            'v': 1046.0,\n            'f': \"1046.0\",\n        },\n\"DIA_NORMAL\",\n\"Quinta-feira\",\n{\n            'v': 1,\n            'f': \"1\",\n        },\n{\n            'v': 1,\n            'f': \"1\",\n        },\n{\n            'v': 2023,\n            'f': \"2023\",\n        }],\n [{\n            'v': 5,\n            'f': \"5\",\n        },\n\"CJ PANELAS BRINOX OPTIMA VANILLA 5 PCS\",\n{\n            'v': 15.0,\n            'f': \"15.0\",\n        },\n{\n            'v': 500.0,\n            'f': \"500.0\",\n        },\n\"DIA_NORMAL\",\n\"Ter\\u00e7a-feira\",\n{\n            'v': 2,\n            'f': \"2\",\n        },\n{\n            'v': 1,\n            'f': \"1\",\n        },\n{\n            'v': 2023,\n            'f': \"2023\",\n        }],\n [{\n            'v': 6,\n            'f': \"6\",\n        },\n\"CJ PANELAS BRINOX OPTIMA VANILLA 5 PCS\",\n{\n            'v': 110.0,\n            'f': \"110.0\",\n        },\n{\n            'v': 500.0,\n            'f': \"500.0\",\n        },\n\"DIA_NORMAL\",\n\"S\\u00e1bado\",\n{\n            'v': 1,\n            'f': \"1\",\n        },\n{\n            'v': 1,\n            'f': \"1\",\n        },\n{\n            'v': 2023,\n            'f': \"2023\",\n        }]],\n        columns: [[\"number\", \"index\"], [\"string\", \"DESCRICAO\"], [\"number\", \"QUANTIDADE\"], [\"number\", \"PRECO\"], [\"string\", \"EMISSORA\"], [\"string\", \"DIA_SEMANA\"], [\"number\", \"SEMANA\"], [\"number\", \"MES\"], [\"number\", \"ANO\"]],\n        columnOptions: [{\"width\": \"1px\", \"className\": \"index_column\"}],\n        rowsPerPage: 25,\n        helpUrl: \"https://colab.research.google.com/notebooks/data_table.ipynb\",\n        suppressOutputScrolling: true,\n        minimumWidth: undefined,\n      });\n\n      function appendQuickchartButton(parentElement) {\n        let quickchartButtonContainerElement = document.createElement('div');\n        quickchartButtonContainerElement.innerHTML = `\n<div id=\"df-16fef8b4-fd84-4ee1-a7a7-15a9f8dae97b\">\n  <button class=\"colab-df-quickchart\" onclick=\"quickchart('df-16fef8b4-fd84-4ee1-a7a7-15a9f8dae97b')\"\n            title=\"Suggest charts.\"\n            style=\"display:none;\">\n    \n<svg xmlns=\"http://www.w3.org/2000/svg\" height=\"24px\"viewBox=\"0 0 24 24\"\n     width=\"24px\">\n    <g>\n        <path d=\"M19 3H5c-1.1 0-2 .9-2 2v14c0 1.1.9 2 2 2h14c1.1 0 2-.9 2-2V5c0-1.1-.9-2-2-2zM9 17H7v-7h2v7zm4 0h-2V7h2v10zm4 0h-2v-4h2v4z\"/>\n    </g>\n</svg>\n  </button>\n  \n<style>\n  .colab-df-quickchart {\n    background-color: #E8F0FE;\n    border: none;\n    border-radius: 50%;\n    cursor: pointer;\n    display: none;\n    fill: #1967D2;\n    height: 32px;\n    padding: 0 0 0 0;\n    width: 32px;\n  }\n\n  .colab-df-quickchart:hover {\n    background-color: #E2EBFA;\n    box-shadow: 0px 1px 2px rgba(60, 64, 67, 0.3), 0px 1px 3px 1px rgba(60, 64, 67, 0.15);\n    fill: #174EA6;\n  }\n\n  [theme=dark] .colab-df-quickchart {\n    background-color: #3B4455;\n    fill: #D2E3FC;\n  }\n\n  [theme=dark] .colab-df-quickchart:hover {\n    background-color: #434B5C;\n    box-shadow: 0px 1px 3px 1px rgba(0, 0, 0, 0.15);\n    filter: drop-shadow(0px 1px 2px rgba(0, 0, 0, 0.3));\n    fill: #FFFFFF;\n  }\n</style>\n\n  <script>\n    async function quickchart(key) {\n      const charts = await google.colab.kernel.invokeFunction(\n          'suggestCharts', [key], {});\n    }\n    (() => {\n      let quickchartButtonEl =\n        document.querySelector('#df-16fef8b4-fd84-4ee1-a7a7-15a9f8dae97b button');\n      quickchartButtonEl.style.display =\n        google.colab.kernel.accessAllowed ? 'block' : 'none';\n    })();\n  </script>\n</div>`;\n        parentElement.appendChild(quickchartButtonContainerElement);\n      }\n\n      appendQuickchartButton(table);\n    "
          },
          "metadata": {},
          "execution_count": 17
        }
      ]
    },
    {
      "cell_type": "code",
      "source": [
        "colunas_categoricas = ['SEMANA', 'MES', 'ANO', 'DIA_SEMANA', 'EMISSORA']\n",
        "\n",
        "df_dummies = pd.DataFrame()\n",
        "\n",
        "for col in colunas_categoricas:\n",
        "    dummies = pd.get_dummies(df[col], prefix=col, drop_first=False)\n",
        "    df_dummies = pd.concat([df_dummies, dummies], axis=1)\n",
        "\n",
        "df = pd.concat([df, df_dummies], axis=1)"
      ],
      "metadata": {
        "id": "SVIW36XRTThP"
      },
      "execution_count": 18,
      "outputs": []
    },
    {
      "cell_type": "code",
      "source": [
        "X = df.drop(['QUANTIDADE', 'DESCRICAO', 'DIA_SEMANA', 'SEMANA', 'MES', 'ANO', 'EMISSORA'], axis=1)\n",
        "y = df['QUANTIDADE']"
      ],
      "metadata": {
        "id": "m9y3xsxjVqti"
      },
      "execution_count": 19,
      "outputs": []
    },
    {
      "cell_type": "code",
      "source": [
        "X_train, X_test, y_train, y_test = train_test_split(X, y, test_size=0.2)\n"
      ],
      "metadata": {
        "id": "dyOUTfeUW_XA"
      },
      "execution_count": 20,
      "outputs": []
    },
    {
      "cell_type": "code",
      "source": [
        "modelo = LinearRegression()\n",
        "modelo.fit(X_train, y_train)\n",
        "\n",
        "y_pred = modelo.predict(X_test)"
      ],
      "metadata": {
        "id": "nSr2kGZtW_ZF"
      },
      "execution_count": 21,
      "outputs": []
    },
    {
      "cell_type": "code",
      "source": [
        "for i in range(len(y_pred)):\n",
        "    if y_pred[i] < 1:\n",
        "        y_pred[i] = 1"
      ],
      "metadata": {
        "id": "grKyG2MZLmWT"
      },
      "execution_count": 22,
      "outputs": []
    },
    {
      "cell_type": "code",
      "source": [
        "mse = mean_squared_error(y_test, y_pred)\n",
        "r2 = r2_score(y_test, y_pred)\n",
        "\n",
        "print(f'Erro Médio Quadrático (MSE): {mse}')\n",
        "print(f'Coeficiente de Determinação (R²): {r2}')"
      ],
      "metadata": {
        "colab": {
          "base_uri": "https://localhost:8080/"
        },
        "id": "SJkNgxcMW_a9",
        "outputId": "3fd52239-0437-4216-eb01-088eac71215f"
      },
      "execution_count": 23,
      "outputs": [
        {
          "output_type": "stream",
          "name": "stdout",
          "text": [
            "Erro Médio Quadrático (MSE): 380.62694147801454\n",
            "Coeficiente de Determinação (R²): 0.02148524303957211\n"
          ]
        }
      ]
    },
    {
      "cell_type": "code",
      "source": [
        "df_resultados = pd.DataFrame({'Real': y_test, 'Previsao': y_pred})\n",
        "\n",
        "df_resultados.to_excel('resultados_regressao.xlsx', index=False)"
      ],
      "metadata": {
        "id": "3ohKAh_f-Icw"
      },
      "execution_count": 24,
      "outputs": []
    }
  ],
  "metadata": {
    "colab": {
      "cell_execution_strategy": "setup",
      "provenance": []
    },
    "kernelspec": {
      "display_name": "Python 3",
      "name": "python3"
    },
    "language_info": {
      "name": "python"
    }
  },
  "nbformat": 4,
  "nbformat_minor": 0
}