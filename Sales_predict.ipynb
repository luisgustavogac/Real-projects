{
  "cells": [
    {
      "cell_type": "code",
      "execution_count": 1,
      "metadata": {
        "id": "w6MmeBUBJ-9E"
      },
      "outputs": [],
      "source": [
        "# Regression model algorithm to predict quantity of sales based on price, date, promotions and marketing investing.\n",
        "# At the end, we will be able to predict the demand of a future promotion and schedule the purchase and distribution of products.\n",
        "\n",
        "# import all librarys.\n",
        "\n",
        "# @title Setup\n",
        "from google.colab import auth\n",
        "from google.cloud import bigquery\n",
        "from google.colab import data_table\n",
        "from email.mime.text import MIMEText\n",
        "from email.mime.multipart import MIMEMultipart\n",
        "from email.mime.application import MIMEApplication\n",
        "import smtplib\n",
        "import seaborn as sns\n",
        "import matplotlib.pyplot as plt\n",
        "import pandas as pd\n",
        "import numpy as np\n",
        "from datetime import datetime\n",
        "import time\n",
        "from sklearn.model_selection import train_test_split\n",
        "from sklearn.linear_model import LinearRegression\n",
        "from sklearn.metrics import mean_squared_error, r2_score\n",
        "\n",
        "data = datetime.today().date()\n",
        "data_hoje = str(data)\n",
        "\n",
        "\n",
        "project = 'project' # Project ID inserted based on the query results selected to explore\n",
        "location = 'US' # Location inserted based on the query results selected to explore\n",
        "client = bigquery.Client(project=project, location=location)\n",
        "data_table.enable_dataframe_formatter()\n",
        "auth.authenticate_user()"
      ]
    },
    {
      "cell_type": "code",
      "execution_count": 2,
      "metadata": {
        "id": "fsAsHoWDZMpv"
      },
      "outputs": [],
      "source": [
        "query =  \"\"\"\n",
        "\n",
        "(\n",
        "-- Data preprocessing...\n",
        "  )\n",
        "\n",
        "SELECT\n",
        "\n",
        "BASE.IBM,\n",
        "BASE.DESCRICAO,\n",
        "SUM(VENDA_QTDE) AS QUANTIDADE,\n",
        "ROUND(PRECO, 0) AS PRECO,\n",
        "UPPER(EMISSORA) AS EMISSORA,\n",
        "CASE EXTRACT(DAYOFWEEK FROM BASE.ANO_MES)\n",
        "    WHEN 1 THEN 'Domingo'\n",
        "    WHEN 2 THEN 'Segunda-feira'\n",
        "    WHEN 3 THEN 'Terça-feira'\n",
        "    WHEN 4 THEN 'Quarta-feira'\n",
        "    WHEN 5 THEN 'Quinta-feira'\n",
        "    WHEN 6 THEN 'Sexta-feira'\n",
        "    WHEN 7 THEN 'Sábado'\n",
        "  END AS DIA_SEMANA,\n",
        "DATE_DIFF(BASE.ANO_MES, DATE_SUB(DATE_TRUNC(BASE.ANO_MES, MONTH), INTERVAL 1 DAY), WEEK) AS SEMANA,\n",
        "EXTRACT(MONTH FROM BASE.ANO_MES) AS MES,\n",
        "EXTRACT(YEAR FROM BASE.ANO_MES) AS ANO,\n",
        "\n",
        "FROM BASE\n",
        "\n",
        "WHERE VENDA_QTDE > 0 AND TIPO_VENDA = \"REDE\" AND BASE.IBM = \"144134600\" -- Product filter\n",
        "\n",
        "GROUP BY EMISSORA, DIA_SEMANA, SEMANA, MES, ANO, IBM, DESCRICAO, PRECO\n",
        "\n",
        "\"\"\""
      ]
    },
    {
      "cell_type": "code",
      "source": [
        "query_job_agendas = client.query(query)\n",
        "results = query_job_agendas.result()"
      ],
      "metadata": {
        "id": "vz95ZsfwBvRw"
      },
      "execution_count": 3,
      "outputs": []
    },
    {
      "cell_type": "code",
      "source": [
        "column_names = [field.name for field in results.schema]"
      ],
      "metadata": {
        "id": "AT-YjpV4KdRo"
      },
      "execution_count": 4,
      "outputs": []
    },
    {
      "cell_type": "code",
      "source": [
        "filename = \"hist.csv\"\n",
        "with open(filename, \"w\") as f:\n",
        "  f.write(\";\".join(column_names) + \"\\n\")\n",
        "\n",
        "  for row in results:\n",
        "    f.write(\";\".join([str(row[field.name]) for field in results.schema]) + \"\\n\")"
      ],
      "metadata": {
        "id": "uxvJn_04CT9i"
      },
      "execution_count": 5,
      "outputs": []
    },
    {
      "cell_type": "code",
      "source": [
        "# data frame from big query.\n",
        "\n",
        "df = pd.read_csv(filename, sep=\";\")"
      ],
      "metadata": {
        "id": "qfrsA3K8RzK4"
      },
      "execution_count": 6,
      "outputs": []
    },
    {
      "cell_type": "code",
      "source": [
        "# replace missing values.\n",
        "\n",
        "valores_substitutos = {'EMISSORA': 'DIA_NORMAL'}\n",
        "df = df.fillna(valores_substitutos)\n",
        "\n",
        "df['EMISSORA'] = df['EMISSORA'].replace(\"None\", \"DIA_NORMAL\")"
      ],
      "metadata": {
        "id": "07QVfVIbM_Y5"
      },
      "execution_count": 7,
      "outputs": []
    },
    {
      "cell_type": "code",
      "source": [
        "df['SEMANA'] = df['SEMANA'].replace(0, 1)\n",
        "df['SEMANA'] = df['SEMANA'].replace(5, 4)"
      ],
      "metadata": {
        "id": "IgD9wI2IzaRi"
      },
      "execution_count": 8,
      "outputs": []
    },
    {
      "cell_type": "code",
      "source": [
        "# remove price outliers:\n",
        "\n",
        "def remove_outliers(df, col_produto, col_preco, lower_threshold=1.0, upper_threshold=1.0):\n",
        "    df['media_preco'] = df.groupby(col_produto)[col_preco].transform('mean')\n",
        "    df['desvio_padrao_preco'] = df.groupby(col_produto)[col_preco].transform('std')\n",
        "\n",
        "    df['z_score'] = (df[col_preco] - df['media_preco']) / df['desvio_padrao_preco']\n",
        "\n",
        "    df_filtered = df[(df['z_score'] >= -lower_threshold) & (df['z_score'] <= upper_threshold)]\n",
        "\n",
        "    df_filtered.drop(['media_preco', 'desvio_padrao_preco', 'z_score', 'IBM'], axis=1, inplace=True)\n",
        "\n",
        "    return df_filtered\n",
        "\n",
        "df = remove_outliers(df, 'IBM', 'PRECO', lower_threshold=0.8, upper_threshold=0.001)\n",
        "\n",
        "valor_moda = df['DESCRICAO'].mode()[0]\n",
        "df['DESCRICAO'] = valor_moda\n"
      ],
      "metadata": {
        "colab": {
          "base_uri": "https://localhost:8080/"
        },
        "id": "pcjl4WMV86ku",
        "outputId": "80be13bc-21d5-4363-bf17-475d8f019702"
      },
      "execution_count": 9,
      "outputs": [
        {
          "output_type": "stream",
          "name": "stderr",
          "text": [
            "<ipython-input-9-cb34cbf2ef10>:11: SettingWithCopyWarning: \n",
            "A value is trying to be set on a copy of a slice from a DataFrame\n",
            "\n",
            "See the caveats in the documentation: https://pandas.pydata.org/pandas-docs/stable/user_guide/indexing.html#returning-a-view-versus-a-copy\n",
            "  df_filtered.drop(['media_preco', 'desvio_padrao_preco', 'z_score', 'IBM'], axis=1, inplace=True)\n",
            "<ipython-input-9-cb34cbf2ef10>:18: SettingWithCopyWarning: \n",
            "A value is trying to be set on a copy of a slice from a DataFrame.\n",
            "Try using .loc[row_indexer,col_indexer] = value instead\n",
            "\n",
            "See the caveats in the documentation: https://pandas.pydata.org/pandas-docs/stable/user_guide/indexing.html#returning-a-view-versus-a-copy\n",
            "  df['DESCRICAO'] = valor_moda\n"
          ]
        }
      ]
    },
    {
      "cell_type": "code",
      "source": [
        "df.info()"
      ],
      "metadata": {
        "colab": {
          "base_uri": "https://localhost:8080/"
        },
        "id": "KRy0jGHcMRyj",
        "outputId": "521cd094-9e12-40bb-ba00-b29a6d8c7a27"
      },
      "execution_count": 10,
      "outputs": [
        {
          "output_type": "stream",
          "name": "stdout",
          "text": [
            "<class 'pandas.core.frame.DataFrame'>\n",
            "Int64Index: 19664 entries, 0 to 30017\n",
            "Data columns (total 8 columns):\n",
            " #   Column      Non-Null Count  Dtype  \n",
            "---  ------      --------------  -----  \n",
            " 0   DESCRICAO   19664 non-null  object \n",
            " 1   QUANTIDADE  19664 non-null  float64\n",
            " 2   PRECO       19664 non-null  float64\n",
            " 3   EMISSORA    19664 non-null  object \n",
            " 4   DIA_SEMANA  19664 non-null  object \n",
            " 5   SEMANA      19664 non-null  int64  \n",
            " 6   MES         19664 non-null  int64  \n",
            " 7   ANO         19664 non-null  int64  \n",
            "dtypes: float64(2), int64(3), object(3)\n",
            "memory usage: 1.4+ MB\n"
          ]
        }
      ]
    },
    {
      "cell_type": "code",
      "source": [
        "df.to_excel('hist_tratado.xlsx', index=False)"
      ],
      "metadata": {
        "id": "mPJ0mAerD5EO"
      },
      "execution_count": 11,
      "outputs": []
    },
    {
      "cell_type": "code",
      "source": [
        "# mean, min and max price values:\n",
        "\n",
        "valor_minimo = df['PRECO'].min()\n",
        "\n",
        "valor_maximo = df['PRECO'].max()\n",
        "\n",
        "valor_medio = df['PRECO'].mean()\n",
        "\n",
        "\n",
        "print(\"Valor Mínimo da coluna 'PRECO':\", valor_minimo)\n",
        "print(\"Valor Máximo da coluna 'PRECO':\", valor_maximo)\n",
        "print(\"Valor Médio da coluna 'PRECO':\", valor_medio)"
      ],
      "metadata": {
        "colab": {
          "base_uri": "https://localhost:8080/"
        },
        "id": "gbkA0XJOB-zP",
        "outputId": "06c13ca9-8947-4042-e54a-663eada2b609"
      },
      "execution_count": 12,
      "outputs": [
        {
          "output_type": "stream",
          "name": "stdout",
          "text": [
            "Valor Mínimo da coluna 'PRECO': 427.0\n",
            "Valor Máximo da coluna 'PRECO': 1009.0\n",
            "Valor Médio da coluna 'PRECO': 667.0631102522376\n"
          ]
        }
      ]
    },
    {
      "cell_type": "code",
      "source": [
        "# mean and max sales values:\n",
        "\n",
        "valor_maximo = df['QUANTIDADE'].max()\n",
        "\n",
        "valor_medio = df['QUANTIDADE'].mean()\n",
        "\n",
        "print(\"Valor Máximo da coluna 'QUANTIDADE':\", valor_maximo)\n",
        "print(\"Valor Médio da coluna QUANTIDADE':\", valor_medio)"
      ],
      "metadata": {
        "colab": {
          "base_uri": "https://localhost:8080/"
        },
        "id": "oy-bt4vnTwVy",
        "outputId": "65f40078-c4bd-4fa5-b18d-6902c7e46441"
      },
      "execution_count": 13,
      "outputs": [
        {
          "output_type": "stream",
          "name": "stdout",
          "text": [
            "Valor Máximo da coluna 'QUANTIDADE': 444.0\n",
            "Valor Médio da coluna QUANTIDADE': 4.075417005695687\n"
          ]
        }
      ]
    },
    {
      "cell_type": "code",
      "source": [
        "# plot sales x marketing campaign.\n",
        "\n",
        "agrupado_emissora = df.groupby('EMISSORA')['QUANTIDADE'].sum().reset_index()\n",
        "\n",
        "plt.figure(figsize=(5, 3))  # Ajuste o tamanho do gráfico conforme necessário\n",
        "plt.bar(agrupado_emissora['EMISSORA'], agrupado_emissora['QUANTIDADE'])\n",
        "plt.xlabel('Dia da Semana')\n",
        "plt.ylabel('Quantidade')\n",
        "plt.title('Quantidade por Campanha')\n",
        "plt.xticks(rotation=45)"
      ],
      "metadata": {
        "colab": {
          "base_uri": "https://localhost:8080/",
          "height": 515
        },
        "id": "5srD22KfCq94",
        "outputId": "69879d14-aac0-4c91-b115-623daf80b257"
      },
      "execution_count": 14,
      "outputs": [
        {
          "output_type": "execute_result",
          "data": {
            "text/plain": [
              "([0, 1, 2, 3, 4, 5],\n",
              " [Text(0, 0, 'DIA_NORMAL'),\n",
              "  Text(1, 0, 'GLOBO'),\n",
              "  Text(2, 0, 'INTERNO'),\n",
              "  Text(3, 0, 'LAMINA'),\n",
              "  Text(4, 0, 'MALA'),\n",
              "  Text(5, 0, 'MÍDIA NET')])"
            ]
          },
          "metadata": {},
          "execution_count": 14
        },
        {
          "output_type": "display_data",
          "data": {
            "text/plain": [
              "<Figure size 500x300 with 1 Axes>"
            ],
            "image/png": "[encoded data removed]"
          },
          "metadata": {}
        }
      ]
    },
    {
      "cell_type": "code",
      "source": [
        "# plot sales x day of the week, week and month.\n",
        "\n",
        "agrupado = df.groupby('DIA_SEMANA')['QUANTIDADE'].sum().reset_index()\n",
        "\n",
        "plt.figure(figsize=(5, 3))  # Ajuste o tamanho do gráfico conforme necessário\n",
        "plt.bar(agrupado['DIA_SEMANA'], agrupado['QUANTIDADE'])\n",
        "plt.xlabel('Dia da Semana')\n",
        "plt.ylabel('Quantidade')\n",
        "plt.title('Quantidade por Dia da Semana')\n",
        "plt.xticks(rotation=45)\n",
        "\n",
        "agrupado_mes = df.groupby('MES')['QUANTIDADE'].sum().reset_index()\n",
        "plt.figure(figsize=(5, 3))  # Ajuste o tamanho do gráfico conforme necessário\n",
        "plt.bar(agrupado_mes['MES'], agrupado_mes['QUANTIDADE'])\n",
        "plt.xlabel('Mes')\n",
        "plt.ylabel('Quantidade')\n",
        "plt.title('Quantidade por Mes')\n",
        "plt.xticks(rotation=45)\n",
        "\n",
        "agrupado_semana = df.groupby('SEMANA')['QUANTIDADE'].sum().reset_index()\n",
        "plt.figure(figsize=(5, 3))  # Ajuste o tamanho do gráfico conforme necessário\n",
        "plt.bar(agrupado_semana['SEMANA'], agrupado_semana['QUANTIDADE'])\n",
        "plt.xlabel('Semana')\n",
        "plt.ylabel('Quantidade')\n",
        "plt.title('Quantidade por Semana')\n",
        "plt.xticks(rotation=45)\n",
        "\n",
        "plt.show()"
      ],
      "metadata": {
        "colab": {
          "base_uri": "https://localhost:8080/",
          "height": 1000
        },
        "id": "bcideBKwqauO",
        "outputId": "10ab1a9b-b243-41ed-d2ce-dbd9e17d302d"
      },
      "execution_count": 15,
      "outputs": [
        {
          "output_type": "display_data",
          "data": {
            "text/plain": [
              "<Figure size 500x300 with 1 Axes>"
            ],
            "image/png": "[encoded data removed]"
          },
          "metadata": {}
        },
        {
          "output_type": "display_data",
          "data": {
            "text/plain": [
              "<Figure size 500x300 with 1 Axes>"
            ],
            "image/png": "[encoded data removed]"
          },
          "metadata": {}
        },
        {
          "output_type": "display_data",
          "data": {
            "text/plain": [
              "<Figure size 500x300 with 1 Axes>"
            ],
            "image/png": "[encoded data removed]"
          },
          "metadata": {}
        }
      ]
    },
    {
      "cell_type": "code",
      "source": [
        "df.info()"
      ],
      "metadata": {
        "colab": {
          "base_uri": "https://localhost:8080/"
        },
        "id": "O3kJ9hXNFbOz",
        "outputId": "987cfa27-83fc-4407-d791-667b790cb97c"
      },
      "execution_count": 16,
      "outputs": [
        {
          "output_type": "stream",
          "name": "stdout",
          "text": [
            "<class 'pandas.core.frame.DataFrame'>\n",
            "Int64Index: 19664 entries, 0 to 30017\n",
            "Data columns (total 8 columns):\n",
            " #   Column      Non-Null Count  Dtype  \n",
            "---  ------      --------------  -----  \n",
            " 0   DESCRICAO   19664 non-null  object \n",
            " 1   QUANTIDADE  19664 non-null  float64\n",
            " 2   PRECO       19664 non-null  float64\n",
            " 3   EMISSORA    19664 non-null  object \n",
            " 4   DIA_SEMANA  19664 non-null  object \n",
            " 5   SEMANA      19664 non-null  int64  \n",
            " 6   MES         19664 non-null  int64  \n",
            " 7   ANO         19664 non-null  int64  \n",
            "dtypes: float64(2), int64(3), object(3)\n",
            "memory usage: 1.4+ MB\n"
          ]
        }
      ]
    },
    {
      "cell_type": "code",
      "source": [
        "df.head()"
      ],
      "metadata": {
        "colab": {
          "base_uri": "https://localhost:8080/",
          "height": 230
        },
        "id": "fn0AKtG0Rf38",
        "outputId": "6539d70a-a26f-4fba-a64d-0cc175f3d07e"
      },
      "execution_count": 17,
      "outputs": [
        {
          "output_type": "execute_result",
          "data": {
            "text/plain": [
              "                                 DESCRICAO  QUANTIDADE  PRECO    EMISSORA  \\\n",
              "0   CJ PANELAS BRINOX OPTIMA VANILLA 5 PCS        28.0  700.0  DIA_NORMAL   \n",
              "4   CJ PANELAS BRINOX OPTIMA VANILLA 5 PCS         5.0  557.0  DIA_NORMAL   \n",
              "6   CJ PANELAS BRINOX OPTIMA VANILLA 5 PCS         1.0  626.0  DIA_NORMAL   \n",
              "9   CJ PANELAS BRINOX OPTIMA VANILLA 5 PCS        44.0  549.0  DIA_NORMAL   \n",
              "11  CJ PANELAS BRINOX OPTIMA VANILLA 5 PCS         1.0  602.0  DIA_NORMAL   \n",
              "\n",
              "       DIA_SEMANA  SEMANA  MES   ANO  \n",
              "0   Segunda-feira       2    1  2022  \n",
              "4    Quarta-feira       1    1  2023  \n",
              "6     Terça-feira       3    1  2022  \n",
              "9    Quinta-feira       4    1  2022  \n",
              "11  Segunda-feira       4    1  2022  "
            ],
            "text/html": [
              "\n",
              "  <div id=\"df-517a9c1d-f8d3-4e24-a81c-2cf68e3f018e\" class=\"colab-df-container\">\n",
              "    <div>\n",
              "<style scoped>\n",
              "    .dataframe tbody tr th:only-of-type {\n",
              "        vertical-align: middle;\n",
              "    }\n",
              "\n",
              "    .dataframe tbody tr th {\n",
              "        vertical-align: top;\n",
              "    }\n",
              "\n",
              "    .dataframe thead th {\n",
              "        text-align: right;\n",
              "    }\n",
              "</style>\n",
              "<table border=\"1\" class=\"dataframe\">\n",
              "  <thead>\n",
              "    <tr style=\"text-align: right;\">\n",
              "      <th></th>\n",
              "      <th>DESCRICAO</th>\n",
              "      <th>QUANTIDADE</th>\n",
              "      <th>PRECO</th>\n",
              "      <th>EMISSORA</th>\n",
              "      <th>DIA_SEMANA</th>\n",
              "      <th>SEMANA</th>\n",
              "      <th>MES</th>\n",
              "      <th>ANO</th>\n",
              "    </tr>\n",
              "  </thead>\n",
              "  <tbody>\n",
              "    <tr>\n",
              "      <th>0</th>\n",
              "      <td>CJ PANELAS BRINOX OPTIMA VANILLA 5 PCS</td>\n",
              "      <td>28.0</td>\n",
              "      <td>700.0</td>\n",
              "      <td>DIA_NORMAL</td>\n",
              "      <td>Segunda-feira</td>\n",
              "      <td>2</td>\n",
              "      <td>1</td>\n",
              "      <td>2022</td>\n",
              "    </tr>\n",
              "    <tr>\n",
              "      <th>4</th>\n",
              "      <td>CJ PANELAS BRINOX OPTIMA VANILLA 5 PCS</td>\n",
              "      <td>5.0</td>\n",
              "      <td>557.0</td>\n",
              "      <td>DIA_NORMAL</td>\n",
              "      <td>Quarta-feira</td>\n",
              "      <td>1</td>\n",
              "      <td>1</td>\n",
              "      <td>2023</td>\n",
              "    </tr>\n",
              "    <tr>\n",
              "      <th>6</th>\n",
              "      <td>CJ PANELAS BRINOX OPTIMA VANILLA 5 PCS</td>\n",
              "      <td>1.0</td>\n",
              "      <td>626.0</td>\n",
              "      <td>DIA_NORMAL</td>\n",
              "      <td>Terça-feira</td>\n",
              "      <td>3</td>\n",
              "      <td>1</td>\n",
              "      <td>2022</td>\n",
              "    </tr>\n",
              "    <tr>\n",
              "      <th>9</th>\n",
              "      <td>CJ PANELAS BRINOX OPTIMA VANILLA 5 PCS</td>\n",
              "      <td>44.0</td>\n",
              "      <td>549.0</td>\n",
              "      <td>DIA_NORMAL</td>\n",
              "      <td>Quinta-feira</td>\n",
              "      <td>4</td>\n",
              "      <td>1</td>\n",
              "      <td>2022</td>\n",
              "    </tr>\n",
              "    <tr>\n",
              "      <th>11</th>\n",
              "      <td>CJ PANELAS BRINOX OPTIMA VANILLA 5 PCS</td>\n",
              "      <td>1.0</td>\n",
              "      <td>602.0</td>\n",
              "      <td>DIA_NORMAL</td>\n",
              "      <td>Segunda-feira</td>\n",
              "      <td>4</td>\n",
              "      <td>1</td>\n",
              "      <td>2022</td>\n",
              "    </tr>\n",
              "  </tbody>\n",
              "</table>\n",
              "</div>\n",
              "    <div class=\"colab-df-buttons\">\n",
              "\n",
              "  <div class=\"colab-df-container\">\n",
              "    <button class=\"colab-df-convert\" onclick=\"convertToInteractive('df-517a9c1d-f8d3-4e24-a81c-2cf68e3f018e')\"\n",
              "            title=\"Convert this dataframe to an interactive table.\"\n",
              "            style=\"display:none;\">\n",
              "\n",
              "  <svg xmlns=\"http://www.w3.org/2000/svg\" height=\"24px\" viewBox=\"0 -960 960 960\">\n",
              "    <path d=\"M120-120v-720h720v720H120Zm60-500h600v-160H180v160Zm220 220h160v-160H400v160Zm0 220h160v-160H400v160ZM180-400h160v-160H180v160Zm440 0h160v-160H620v160ZM180-180h160v-160H180v160Zm440 0h160v-160H620v160Z\"/>\n",
              "  </svg>\n",
              "    </button>\n",
              "\n",
              "  <style>\n",
              "    .colab-df-container {\n",
              "      display:flex;\n",
              "      gap: 12px;\n",
              "    }\n",
              "\n",
              "    .colab-df-convert {\n",
              "      background-color: #E8F0FE;\n",
              "      border: none;\n",
              "      border-radius: 50%;\n",
              "      cursor: pointer;\n",
              "      display: none;\n",
              "      fill: #1967D2;\n",
              "      height: 32px;\n",
              "      padding: 0 0 0 0;\n",
              "      width: 32px;\n",
              "    }\n",
              "\n",
              "    .colab-df-convert:hover {\n",
              "      background-color: #E2EBFA;\n",
              "      box-shadow: 0px 1px 2px rgba(60, 64, 67, 0.3), 0px 1px 3px 1px rgba(60, 64, 67, 0.15);\n",
              "      fill: #174EA6;\n",
              "    }\n",
              "\n",
              "    .colab-df-buttons div {\n",
              "      margin-bottom: 4px;\n",
              "    }\n",
              "\n",
              "    [theme=dark] .colab-df-convert {\n",
              "      background-color: #3B4455;\n",
              "      fill: #D2E3FC;\n",
              "    }\n",
              "\n",
              "    [theme=dark] .colab-df-convert:hover {\n",
              "      background-color: #434B5C;\n",
              "      box-shadow: 0px 1px 3px 1px rgba(0, 0, 0, 0.15);\n",
              "      filter: drop-shadow(0px 1px 2px rgba(0, 0, 0, 0.3));\n",
              "      fill: #FFFFFF;\n",
              "    }\n",
              "  </style>\n",
              "\n",
              "    <script>\n",
              "      const buttonEl =\n",
              "        document.querySelector('#df-517a9c1d-f8d3-4e24-a81c-2cf68e3f018e button.colab-df-convert');\n",
              "      buttonEl.style.display =\n",
              "        google.colab.kernel.accessAllowed ? 'block' : 'none';\n",
              "\n",
              "      async function convertToInteractive(key) {\n",
              "        const element = document.querySelector('#df-517a9c1d-f8d3-4e24-a81c-2cf68e3f018e');\n",
              "        const dataTable =\n",
              "          await google.colab.kernel.invokeFunction('convertToInteractive',\n",
              "                                                    [key], {});\n",
              "        if (!dataTable) return;\n",
              "\n",
              "        const docLinkHtml = 'Like what you see? Visit the ' +\n",
              "          '<a target=\"_blank\" href=https://colab.research.google.com/notebooks/data_table.ipynb>data table notebook</a>'\n",
              "          + ' to learn more about interactive tables.';\n",
              "        element.innerHTML = '';\n",
              "        dataTable['output_type'] = 'display_data';\n",
              "        await google.colab.output.renderOutput(dataTable, element);\n",
              "        const docLink = document.createElement('div');\n",
              "        docLink.innerHTML = docLinkHtml;\n",
              "        element.appendChild(docLink);\n",
              "      }\n",
              "    </script>\n",
              "  </div>\n",
              "\n",
              "\n",
              "<div id=\"df-c1e2f1c0-2dbd-4683-a883-091a104d2e0d\">\n",
              "  <button class=\"colab-df-quickchart\" onclick=\"quickchart('df-c1e2f1c0-2dbd-4683-a883-091a104d2e0d')\"\n",
              "            title=\"Suggest charts.\"\n",
              "            style=\"display:none;\">\n",
              "\n",
              "<svg xmlns=\"http://www.w3.org/2000/svg\" height=\"24px\"viewBox=\"0 0 24 24\"\n",
              "     width=\"24px\">\n",
              "    <g>\n",
              "        <path d=\"M19 3H5c-1.1 0-2 .9-2 2v14c0 1.1.9 2 2 2h14c1.1 0 2-.9 2-2V5c0-1.1-.9-2-2-2zM9 17H7v-7h2v7zm4 0h-2V7h2v10zm4 0h-2v-4h2v4z\"/>\n",
              "    </g>\n",
              "</svg>\n",
              "  </button>\n",
              "\n",
              "<style>\n",
              "  .colab-df-quickchart {\n",
              "    background-color: #E8F0FE;\n",
              "    border: none;\n",
              "    border-radius: 50%;\n",
              "    cursor: pointer;\n",
              "    display: none;\n",
              "    fill: #1967D2;\n",
              "    height: 32px;\n",
              "    padding: 0 0 0 0;\n",
              "    width: 32px;\n",
              "  }\n",
              "\n",
              "  .colab-df-quickchart:hover {\n",
              "    background-color: #E2EBFA;\n",
              "    box-shadow: 0px 1px 2px rgba(60, 64, 67, 0.3), 0px 1px 3px 1px rgba(60, 64, 67, 0.15);\n",
              "    fill: #174EA6;\n",
              "  }\n",
              "\n",
              "  [theme=dark] .colab-df-quickchart {\n",
              "    background-color: #3B4455;\n",
              "    fill: #D2E3FC;\n",
              "  }\n",
              "\n",
              "  [theme=dark] .colab-df-quickchart:hover {\n",
              "    background-color: #434B5C;\n",
              "    box-shadow: 0px 1px 3px 1px rgba(0, 0, 0, 0.15);\n",
              "    filter: drop-shadow(0px 1px 2px rgba(0, 0, 0, 0.3));\n",
              "    fill: #FFFFFF;\n",
              "  }\n",
              "</style>\n",
              "\n",
              "  <script>\n",
              "    async function quickchart(key) {\n",
              "      const charts = await google.colab.kernel.invokeFunction(\n",
              "          'suggestCharts', [key], {});\n",
              "    }\n",
              "    (() => {\n",
              "      let quickchartButtonEl =\n",
              "        document.querySelector('#df-c1e2f1c0-2dbd-4683-a883-091a104d2e0d button');\n",
              "      quickchartButtonEl.style.display =\n",
              "        google.colab.kernel.accessAllowed ? 'block' : 'none';\n",
              "    })();\n",
              "  </script>\n",
              "</div>\n",
              "    </div>\n",
              "  </div>\n"
            ],
            "application/vnd.google.colaboratory.module+javascript": "\n      import \"https://ssl.gstatic.com/colaboratory/data_table/881c4a0d49046431/data_table.js\";\n\n      const table = window.createDataTable({\n        data: [[{\n            'v': 0,\n            'f': \"0\",\n        },\n\"CJ PANELAS BRINOX OPTIMA VANILLA 5 PCS\",\n{\n            'v': 28.0,\n            'f': \"28.0\",\n        },\n{\n            'v': 700.0,\n            'f': \"700.0\",\n        },\n\"DIA_NORMAL\",\n\"Segunda-feira\",\n{\n            'v': 2,\n            'f': \"2\",\n        },\n{\n            'v': 1,\n            'f': \"1\",\n        },\n{\n            'v': 2022,\n            'f': \"2022\",\n        }],\n [{\n            'v': 4,\n            'f': \"4\",\n        },\n\"CJ PANELAS BRINOX OPTIMA VANILLA 5 PCS\",\n{\n            'v': 5.0,\n            'f': \"5.0\",\n        },\n{\n            'v': 557.0,\n            'f': \"557.0\",\n        },\n\"DIA_NORMAL\",\n\"Quarta-feira\",\n{\n            'v': 1,\n            'f': \"1\",\n        },\n{\n            'v': 1,\n            'f': \"1\",\n        },\n{\n            'v': 2023,\n            'f': \"2023\",\n        }],\n [{\n            'v': 6,\n            'f': \"6\",\n        },\n\"CJ PANELAS BRINOX OPTIMA VANILLA 5 PCS\",\n{\n            'v': 1.0,\n            'f': \"1.0\",\n        },\n{\n            'v': 626.0,\n            'f': \"626.0\",\n        },\n\"DIA_NORMAL\",\n\"Ter\\u00e7a-feira\",\n{\n            'v': 3,\n            'f': \"3\",\n        },\n{\n            'v': 1,\n            'f': \"1\",\n        },\n{\n            'v': 2022,\n            'f': \"2022\",\n        }],\n [{\n            'v': 9,\n            'f': \"9\",\n        },\n\"CJ PANELAS BRINOX OPTIMA VANILLA 5 PCS\",\n{\n            'v': 44.0,\n            'f': \"44.0\",\n        },\n{\n            'v': 549.0,\n            'f': \"549.0\",\n        },\n\"DIA_NORMAL\",\n\"Quinta-feira\",\n{\n            'v': 4,\n            'f': \"4\",\n        },\n{\n            'v': 1,\n            'f': \"1\",\n        },\n{\n            'v': 2022,\n            'f': \"2022\",\n        }],\n [{\n            'v': 11,\n            'f': \"11\",\n        },\n\"CJ PANELAS BRINOX OPTIMA VANILLA 5 PCS\",\n{\n            'v': 1.0,\n            'f': \"1.0\",\n        },\n{\n            'v': 602.0,\n            'f': \"602.0\",\n        },\n\"DIA_NORMAL\",\n\"Segunda-feira\",\n{\n            'v': 4,\n            'f': \"4\",\n        },\n{\n            'v': 1,\n            'f': \"1\",\n        },\n{\n            'v': 2022,\n            'f': \"2022\",\n        }]],\n        columns: [[\"number\", \"index\"], [\"string\", \"DESCRICAO\"], [\"number\", \"QUANTIDADE\"], [\"number\", \"PRECO\"], [\"string\", \"EMISSORA\"], [\"string\", \"DIA_SEMANA\"], [\"number\", \"SEMANA\"], [\"number\", \"MES\"], [\"number\", \"ANO\"]],\n        columnOptions: [{\"width\": \"1px\", \"className\": \"index_column\"}],\n        rowsPerPage: 25,\n        helpUrl: \"https://colab.research.google.com/notebooks/data_table.ipynb\",\n        suppressOutputScrolling: true,\n        minimumWidth: undefined,\n      });\n\n      function appendQuickchartButton(parentElement) {\n        let quickchartButtonContainerElement = document.createElement('div');\n        quickchartButtonContainerElement.innerHTML = `\n<div id=\"df-33c4f9b5-de52-40e6-a545-1c7262455db3\">\n  <button class=\"colab-df-quickchart\" onclick=\"quickchart('df-33c4f9b5-de52-40e6-a545-1c7262455db3')\"\n            title=\"Suggest charts.\"\n            style=\"display:none;\">\n    \n<svg xmlns=\"http://www.w3.org/2000/svg\" height=\"24px\"viewBox=\"0 0 24 24\"\n     width=\"24px\">\n    <g>\n        <path d=\"M19 3H5c-1.1 0-2 .9-2 2v14c0 1.1.9 2 2 2h14c1.1 0 2-.9 2-2V5c0-1.1-.9-2-2-2zM9 17H7v-7h2v7zm4 0h-2V7h2v10zm4 0h-2v-4h2v4z\"/>\n    </g>\n</svg>\n  </button>\n  \n<style>\n  .colab-df-quickchart {\n    background-color: #E8F0FE;\n    border: none;\n    border-radius: 50%;\n    cursor: pointer;\n    display: none;\n    fill: #1967D2;\n    height: 32px;\n    padding: 0 0 0 0;\n    width: 32px;\n  }\n\n  .colab-df-quickchart:hover {\n    background-color: #E2EBFA;\n    box-shadow: 0px 1px 2px rgba(60, 64, 67, 0.3), 0px 1px 3px 1px rgba(60, 64, 67, 0.15);\n    fill: #174EA6;\n  }\n\n  [theme=dark] .colab-df-quickchart {\n    background-color: #3B4455;\n    fill: #D2E3FC;\n  }\n\n  [theme=dark] .colab-df-quickchart:hover {\n    background-color: #434B5C;\n    box-shadow: 0px 1px 3px 1px rgba(0, 0, 0, 0.15);\n    filter: drop-shadow(0px 1px 2px rgba(0, 0, 0, 0.3));\n    fill: #FFFFFF;\n  }\n</style>\n\n  <script>\n    async function quickchart(key) {\n      const charts = await google.colab.kernel.invokeFunction(\n          'suggestCharts', [key], {});\n    }\n    (() => {\n      let quickchartButtonEl =\n        document.querySelector('#df-33c4f9b5-de52-40e6-a545-1c7262455db3 button');\n      quickchartButtonEl.style.display =\n        google.colab.kernel.accessAllowed ? 'block' : 'none';\n    })();\n  </script>\n</div>`;\n        parentElement.appendChild(quickchartButtonContainerElement);\n      }\n\n      appendQuickchartButton(table);\n    "
          },
          "metadata": {},
          "execution_count": 17
        }
      ]
    },
    {
      "cell_type": "code",
      "source": [
        "# get categorical dummies:\n",
        "\n",
        "colunas_categoricas = ['SEMANA', 'MES', 'ANO', 'DIA_SEMANA', 'EMISSORA']\n",
        "\n",
        "df_dummies = pd.DataFrame()\n",
        "\n",
        "for col in colunas_categoricas:\n",
        "    dummies = pd.get_dummies(df[col], prefix=col, drop_first=False)\n",
        "    df_dummies = pd.concat([df_dummies, dummies], axis=1)\n",
        "\n",
        "df = pd.concat([df, df_dummies], axis=1)"
      ],
      "metadata": {
        "id": "SVIW36XRTThP"
      },
      "execution_count": 18,
      "outputs": []
    },
    {
      "cell_type": "code",
      "source": [
        "X = df.drop(['QUANTIDADE', 'DESCRICAO', 'DIA_SEMANA', 'SEMANA', 'MES', 'ANO', 'EMISSORA'], axis=1)\n",
        "y = df['QUANTIDADE']"
      ],
      "metadata": {
        "id": "m9y3xsxjVqti"
      },
      "execution_count": 27,
      "outputs": []
    },
    {
      "cell_type": "code",
      "source": [
        "# test split.\n",
        "\n",
        "X_train, X_test, y_train, y_test = train_test_split(X, y, test_size=0.2)\n"
      ],
      "metadata": {
        "id": "dyOUTfeUW_XA"
      },
      "execution_count": 28,
      "outputs": []
    },
    {
      "cell_type": "code",
      "source": [
        "# fit linear regression model.\n",
        "\n",
        "modelo = LinearRegression()\n",
        "modelo.fit(X_train, y_train)\n",
        "\n",
        "y_pred = modelo.predict(X_test)"
      ],
      "metadata": {
        "id": "nSr2kGZtW_ZF"
      },
      "execution_count": 29,
      "outputs": []
    },
    {
      "cell_type": "code",
      "source": [
        "# see results performance\n",
        "\n",
        "mse = mean_squared_error(y_test, y_pred)\n",
        "r2 = r2_score(y_test, y_pred)\n",
        "\n",
        "print(f'Erro Médio Quadrático (MSE): {mse}')\n",
        "print(f'Coeficiente de Determinação (R²): {r2}')"
      ],
      "metadata": {
        "colab": {
          "base_uri": "https://localhost:8080/"
        },
        "id": "SJkNgxcMW_a9",
        "outputId": "0e9ba1f6-7854-4be0-d048-2a5f95cb57b5"
      },
      "execution_count": 52,
      "outputs": [
        {
          "output_type": "stream",
          "name": "stdout",
          "text": [
            "Erro Médio Quadrático (MSE): 26.686827692245714\n",
            "Coeficiente de Determinação (R²): 0.8509370453704187\n"
          ]
        }
      ]
    },
    {
      "cell_type": "code",
      "source": [
        "# Mean Squared Error. It is a measure of the average squared difference between the actual values and the predicted values in a regression model. Here, the MSE value is approximately 26.69.\n",
        "\n",
        "# R-squared (R²), is a statistical measure that represents the proportion of the variance in the dependent variable that is predictable from the independent variables in a regression model. An R² value of approximately 0.851 indicates that about 85.1% of the variance in the dependent variable can be explained by the independent variables in the model."
      ],
      "metadata": {
        "id": "j-YKDYv4WlXV"
      },
      "execution_count": null,
      "outputs": []
    },
    {
      "cell_type": "code",
      "source": [
        "# see all results back to excel:\n",
        "\n",
        "df_resultados = pd.DataFrame({'Real': y_test, 'Previsao': y_pred})\n",
        "\n",
        "df_resultados.to_excel('resultados_regressao.xlsx', index=False)"
      ],
      "metadata": {
        "id": "3ohKAh_f-Icw"
      },
      "execution_count": 53,
      "outputs": []
    },
    {
      "cell_type": "code",
      "source": [],
      "metadata": {
        "id": "Hv3rymFWMXxL"
      },
      "execution_count": null,
      "outputs": []
    }
  ],
  "metadata": {
    "colab": {
      "cell_execution_strategy": "setup",
      "provenance": []
    },
    "kernelspec": {
      "display_name": "Python 3",
      "name": "python3"
    },
    "language_info": {
      "name": "python"
    }
  },
  "nbformat": 4,
  "nbformat_minor": 0
}